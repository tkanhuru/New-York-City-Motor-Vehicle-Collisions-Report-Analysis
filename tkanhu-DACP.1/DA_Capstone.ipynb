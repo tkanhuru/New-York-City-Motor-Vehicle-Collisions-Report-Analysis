{
  "nbformat": 4,
  "nbformat_minor": 0,
  "metadata": {
    "colab": {
      "provenance": [],
      "collapsed_sections": []
    },
    "kernelspec": {
      "name": "python3",
      "display_name": "Python 3"
    },
    "language_info": {
      "name": "python"
    }
  },
  "cells": [
    {
      "cell_type": "markdown",
      "source": [
        "# Capstone Project\n",
        "## Introduction\n",
        "\n",
        "The Capstone project is the final project in this course and will let us understand how you learned the materials of the course. As you moved through the course, you acquired more freedom in your tasks. With the Capston Project, you will do everything on your own, without our guidance. We will only provide the minimum requirements.\n",
        "\n",
        "As one of the requirements in your final results we will be asking you to provide a written report. Please use the following resources to learn more about structure of written reports:\n",
        "- [Grammarly Guide on how to write report](https://www.grammarly.com/blog/how-to-write-a-report/)\n",
        "- [The Leeds University report writing guide](https://library.leeds.ac.uk/info/14011/writing/114/report_writing)\n",
        "\n",
        "In addition to these resources you are also provided with 2 very basic report examples, just to get a sense of what the final version of your report may look like.\n",
        "\n",
        "- [Report 1](https://drive.google.com/file/d/1Rm_JFPxBmmDmy9XtS3bXiTznbmreojAE/view?usp=sharing)\n",
        "- [Report 2](https://drive.google.com/file/d/159a6uV9GMo9HQpS0eN1cOb3wrONOpRcN/view?usp=sharing)\n",
        "\n",
        "\n",
        "Find any data source you would like to analyze. By choosing a unique dataset and a unique problem, you will be able to differentiate your project from others when applying to companies. We expect that you analyze it and present this analysis to us with the following expectations: \n",
        "\n",
        "- A quick introduction to the data source\n",
        "- Information about the context of the data (time periods, business context, etc.)\n",
        "- An explanation about the targeted audience\n",
        "- A dashboard, presentation and written report (Please see below for more details)\n",
        "\n",
        "## Your final Results\n",
        "1. Dashboard: The dashboard must be accessible without a special tool. You can choose the data visualization tool, but we encourage you to use Data Studio since sharing it is easier.\n",
        "2. Presentation: Keep your presentation to 10-15 minutes and include extensive speaker notes.\n",
        "3. Written Report: Create a written report of your analysis, in Google Docs. It must contain the necessary data and your insights in written format.\n",
        "\n",
        "## Minimum Requirements\n",
        "1. Utilize at least 5 techniques that you learned in the course. Provide the details of each technique separately.\n",
        "2. Dashboard, presentation and written report must tell a consistent story, be logical and include useful insights.\n",
        "3. You may use the data of your choice, as long as it is not a source we used in the course for Hands-On or Graded Tasks.\n",
        "4. Follow a structured approach. It is not necessary to list the six steps, but have a continuous story, and be able to point out where you covered each step.\n",
        "\n",
        "## General Advice\n",
        "1. One of the most important tasks of a data analyst is finding data. You must find a dataset for this project by yourself. We will not provide one. Good data sources may be found in [Kaggle](https://www.kaggle.com/), [BigQuery Public Datasets](https://console.cloud.google.com/marketplace/browse?filter=solution-type:dataset&_ga=2.58916586.631541135.1657185065-2065536223.1638469470), [Datasets Subreddit](https://www.reddit.com/r/datasets/), etc. If you have problems finding a dataset, do not hesitate to contact JTLs or STLs.\n",
        "2. Choose a dataset that is interesting to you and can provide lots of information, so you can try out different techniques you learned in the course. Keep in mind that people evaluating you must also be interested in the topic.\n",
        "3. In case you find a very large dataset with many tables, make use of some of the data infrastructure you are familiar with. You can always upload .csv files to BigQuery which is registered to your email account or even create a mini database locally on your machine.\n",
        "4. Use SQL to join and aggregate data. This will make your life much easier without the need to figure out how to join data in different programs you may be using.\n",
        "5. Your presentation and written report must contain these essential parts: the problem you are trying to solve, the hypothesis you will test, a quick overview of the data you used, the analysis, limitations and future recommendations.\n",
        "6. Keep in mind that you will likely use this project as your main portfolio item when applying to jobs – so try to show your best skills!\n",
        "\n"
      ],
      "metadata": {
        "id": "Rv8_3DPXzkDS"
      }
    }
  ]
}